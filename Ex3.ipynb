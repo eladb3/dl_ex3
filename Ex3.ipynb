{
 "cells": [
  {
   "cell_type": "code",
   "execution_count": 1,
   "metadata": {},
   "outputs": [
    {
     "name": "stdout",
     "output_type": "stream",
     "text": [
      "device: cuda\n",
      "Preparing data...\n",
      "Data is ready\n"
     ]
    }
   ],
   "source": [
    "from importlib import reload\n",
    "import os\n",
    "from utils.data import MyData\n",
    "from utils import utils\n",
    "from torch.utils.data import DataLoader\n",
    "import torch\n",
    "import torchvision\n",
    "from torchvision.transforms import ToTensor, RandomCrop, Compose\n",
    "from torch import nn, optim\n",
    "import numpy as np\n",
    "import matplotlib.pyplot as plt\n",
    "from tqdm.notebook import tqdm\n",
    "if not os.path.isdir(\"./cache\"): os.mkdir(\"cache\")\n",
    "device = torch.device('cuda') if torch.cuda.is_available() else torch.device('cpu')\n",
    "print(f'device: {device}')\n",
    "print(\"Preparing data...\")\\\n",
    "\n",
    "\n",
    "\n",
    "mData = MyData()\n",
    "print(\"Data is ready\")"
   ]
  },
  {
   "cell_type": "code",
   "execution_count": 20,
   "metadata": {},
   "outputs": [
    {
     "data": {
      "text/plain": [
       "<module 'utils.utils' from '/specific/scratches/scratch/eladb3/dl/dl_ex3/utils/utils.py'>"
      ]
     },
     "execution_count": 20,
     "metadata": {},
     "output_type": "execute_result"
    }
   ],
   "source": [
    "from importlib import reload\n",
    "reload(utils)"
   ]
  },
  {
   "cell_type": "markdown",
   "metadata": {},
   "source": [
    "## Net 12"
   ]
  },
  {
   "cell_type": "code",
   "execution_count": null,
   "metadata": {},
   "outputs": [
    {
     "name": "stdout",
     "output_type": "stream",
     "text": [
      ">>> Epoch 0, train: loss 0.71 acc 0.51, test: loss 0.70 acc 0.50, \n"
     ]
    }
   ],
   "source": [
    "Net12 = nn.Sequential(\n",
    "    # 3 X 12 X 12\n",
    "    nn.Conv2d(3, 16, kernel_size = 3, stride = 1),\n",
    "    # 16 X 10 X 10\n",
    "    utils.nn_Unsqueeze(1),\n",
    "    # 1 X  16 X 10 X 10\n",
    "    nn.MaxPool3d(kernel_size = [16, 3, 3], stride = 2),\n",
    "    # 1 X 4 X 4\n",
    "    nn.Flatten(),\n",
    "    nn.Linear(4 * 4, 2)\n",
    ")\n",
    "\n",
    "Net12.to(device)\n",
    "# train\n",
    "opt = optim.Adam(Net12.parameters(), lr=  5e-4)\n",
    "loss_fn = nn.CrossEntropyLoss()\n",
    "E = 1000\n",
    "l_loss, l_acc = {'train':[], 'test':[]}, {'train':[], 'test':[]}\n",
    "for epoch in range(E):\n",
    "    dl = mData.DataLoader(12, typ = 'train', batch_size = 256)\n",
    "    dl_test = mData.DataLoader(12, typ = 'test', batch_size = 256)\n",
    "    epoch_loss, epoch_acc = 0, 0\n",
    "    \n",
    "    for x, y in dl:\n",
    "        x, y = x.to(device), y.view(-1).type(torch.int64).to(device)\n",
    "        y_pred = Net12(x)\n",
    "        loss = loss_fn(y_pred, y)\n",
    "        opt.zero_grad() ; loss.backward() ; opt.step()\n",
    "        with torch.no_grad():\n",
    "            epoch_acc += (y_pred.cpu().argmax(axis=1) == y.cpu()).type(torch.float32).mean()\n",
    "        epoch_loss += loss \n",
    "    l_loss['train'].append(epoch_loss / len(dl))\n",
    "    l_acc['train'].append(epoch_acc / len(dl))\n",
    "        \n",
    "    epoch_loss, epoch_acc = 0, 0\n",
    "    for x,y in dl_test:\n",
    "        x, y = x.to(device), y.view(-1).type(torch.int64).to(device)\n",
    "        with torch.no_grad():\n",
    "            y_pred = Net12(x)\n",
    "            loss = loss_fn(y_pred, y)\n",
    "            epoch_acc += (y_pred.cpu().argmax(axis=1) == y.cpu()).type(torch.float32).mean()\n",
    "        epoch_loss += loss \n",
    "    l_loss['test'].append(epoch_loss / len(dl_test))\n",
    "    l_acc['test'].append(epoch_acc / len(dl_test))\n",
    "    if epoch % 100 == 0: \n",
    "        utils.print_during_train(epoch,l_loss, l_acc)"
   ]
  },
  {
   "cell_type": "code",
   "execution_count": null,
   "metadata": {},
   "outputs": [],
   "source": []
  }
 ],
 "metadata": {
  "kernelspec": {
   "display_name": "Python 3",
   "language": "python",
   "name": "python3"
  },
  "language_info": {
   "codemirror_mode": {
    "name": "ipython",
    "version": 3
   },
   "file_extension": ".py",
   "mimetype": "text/x-python",
   "name": "python",
   "nbconvert_exporter": "python",
   "pygments_lexer": "ipython3",
   "version": "3.7.9"
  }
 },
 "nbformat": 4,
 "nbformat_minor": 4
}
