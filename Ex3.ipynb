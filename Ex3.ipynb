{
 "cells": [
  {
   "cell_type": "code",
   "execution_count": 6,
   "metadata": {},
   "outputs": [
    {
     "name": "stdout",
     "output_type": "stream",
     "text": [
      "device: cuda\n",
      "Preparing data...\n",
      "Data is ready\n"
     ]
    }
   ],
   "source": [
    "from importlib import reload\n",
    "from copy import deepcopy\n",
    "import os\n",
    "from utils.data import MyData\n",
    "from utils import utils\n",
    "from torch.utils.data import DataLoader\n",
    "import torch\n",
    "import torchvision\n",
    "from torchvision.transforms import ToTensor, RandomCrop, Compose\n",
    "from torch import nn, optim\n",
    "import numpy as np\n",
    "import matplotlib.pyplot as plt\n",
    "from tqdm.notebook import tqdm\n",
    "if not os.path.isdir(\"./cache\"): os.mkdir(\"cache\")\n",
    "device = torch.device('cuda') if torch.cuda.is_available() else torch.device('cpu')\n",
    "print(f'device: {device}')\n",
    "print(\"Preparing data...\")\n",
    "mData = MyData()\n",
    "print(\"Data is ready\")"
   ]
  },
  {
   "cell_type": "markdown",
   "metadata": {},
   "source": [
    "## Net 12"
   ]
  },
  {
   "cell_type": "code",
   "execution_count": 16,
   "metadata": {},
   "outputs": [
    {
     "name": "stdout",
     "output_type": "stream",
     "text": [
      ">>> Epoch 0, train: loss 0.7203 acc 0.3432, test: loss 0.7154 acc 0.3561, \n"
     ]
    }
   ],
   "source": [
    "Net12 = nn.Sequential(\n",
    "    # 3 X 12 X 12\n",
    "    nn.Conv2d(3, 16, kernel_size = 3, stride = 1),\n",
    "    # 16 X 10 X 10\n",
    "    utils.nn_Unsqueeze(1),\n",
    "    # 1 X  16 X 10 X 10\n",
    "    nn.MaxPool3d(kernel_size = [16, 3, 3], stride = 2),\n",
    "    # 1 X 4 X 4\n",
    "    nn.Flatten(),\n",
    "    nn.Linear(4 * 4, 2)\n",
    ")\n",
    "\n",
    "Net12.to(device)\n",
    "# train\n",
    "\n",
    "model_path = \"./cache/models.12Net.best_model\"\n",
    "if os.path.isfile(model_path):\n",
    "    best_model = torch.load(model_path)\n",
    "\n",
    "else:\n",
    "    opt = optim.Adam(Net12.parameters(), lr=  2e-4)\n",
    "    loss_fn = nn.CrossEntropyLoss()\n",
    "    E = 100\n",
    "    l_loss, l_acc = {'train':[], 'test':[]}, {'train':[], 'test':[]}\n",
    "    best_model, best_acc = None ,0\n",
    "    for epoch in range(E):\n",
    "        dl = mData.DataLoader(12, typ = 'train', batch_size = 256)\n",
    "        dl_test = mData.DataLoader(12, typ = 'test', batch_size = 256)\n",
    "        epoch_loss, epoch_acc = 0, 0\n",
    "        # train epoch\n",
    "        for x, y in dl:\n",
    "            x, y = x.to(device), y.view(-1).type(torch.int64).to(device)\n",
    "            y_pred = Net12(x)\n",
    "            loss = loss_fn(y_pred, y)\n",
    "            opt.zero_grad() ; loss.backward() ; opt.step()\n",
    "            with torch.no_grad():\n",
    "                epoch_acc += (y_pred.cpu().argmax(axis=1) == y.cpu()).type(torch.float32).mean()\n",
    "            epoch_loss += loss \n",
    "        l_loss['train'].append(epoch_loss / len(dl))\n",
    "        l_acc['train'].append(epoch_acc / len(dl))\n",
    "        epoch_loss, epoch_acc = 0, 0\n",
    "        # test\n",
    "        for x,y in dl_test:\n",
    "            x, y = x.to(device), y.view(-1).type(torch.int64).to(device)\n",
    "            with torch.no_grad():\n",
    "                y_pred = Net12(x)\n",
    "                loss = loss_fn(y_pred, y)\n",
    "                epoch_acc += (y_pred.cpu().argmax(axis=1) == y.cpu()).type(torch.float32).mean()\n",
    "            epoch_loss += loss \n",
    "        # update best model\n",
    "        l_loss['test'].append(epoch_loss / len(dl_test))\n",
    "        l_acc['test'].append(epoch_acc / len(dl_test))\n",
    "        if l_acc['test'][-1] > best_acc:\n",
    "            best_acc = l_acc['test'][-1]\n",
    "            best_model = deepcopy(Net12)\n",
    "        if epoch % 100 == 0: \n",
    "            utils.print_during_train(epoch,l_loss, l_acc)\n",
    "    torch.save(best_model.cpu(), model_path)"
   ]
  },
  {
   "cell_type": "markdown",
   "metadata": {},
   "source": [
    "## Simple Detector"
   ]
  },
  {
   "cell_type": "code",
   "execution_count": 17,
   "metadata": {},
   "outputs": [
    {
     "data": {
      "text/plain": [
       "<module 'utils.utils' from '/specific/scratches/scratch/eladb3/dl/dl_ex3/utils/utils.py'>"
      ]
     },
     "execution_count": 17,
     "metadata": {},
     "output_type": "execute_result"
    }
   ],
   "source": [
    "from importlib import reload\n",
    "from copy import deepcopy\n",
    "reload(utils)"
   ]
  },
  {
   "cell_type": "code",
   "execution_count": 99,
   "metadata": {},
   "outputs": [],
   "source": []
  },
  {
   "cell_type": "code",
   "execution_count": 108,
   "metadata": {},
   "outputs": [],
   "source": [
    "Net12 = torch.load(\"cache/models.12Net.best_model\").to(device)\n",
    "Net12_layers = list(Net12._modules.values())\n",
    "conv_layer = nn.Conv2d(1, 2, kernel_size = 4, stride = 1)\n",
    "conv_layer.weight.data = Net12_layers[-1].weight.data.view((2, 1, 4, 4)).detach().clone()\n",
    "conv_layer.bias.data = Net12_layers[-1].bias.data.detach().clone()\n",
    "Net12Detector_layers = [deepcopy(l) for l in Net12_layers[:-2]] + [utils.nn_Squeeze(1)] + [conv_layer]\n",
    "Net12_FCN = nn.Sequential(*Net12Detector_layers)"
   ]
  },
  {
   "cell_type": "code",
   "execution_count": null,
   "metadata": {},
   "outputs": [],
   "source": []
  }
 ],
 "metadata": {
  "kernelspec": {
   "display_name": "Python 3",
   "language": "python",
   "name": "python3"
  },
  "language_info": {
   "codemirror_mode": {
    "name": "ipython",
    "version": 3
   },
   "file_extension": ".py",
   "mimetype": "text/x-python",
   "name": "python",
   "nbconvert_exporter": "python",
   "pygments_lexer": "ipython3",
   "version": "3.7.9"
  }
 },
 "nbformat": 4,
 "nbformat_minor": 4
}
